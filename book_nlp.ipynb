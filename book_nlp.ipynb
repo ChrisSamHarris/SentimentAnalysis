{
 "cells": [
  {
   "cell_type": "code",
   "execution_count": 1,
   "id": "d29d2c81-e5d3-4d5a-8860-f1de0e139749",
   "metadata": {},
   "outputs": [
    {
     "name": "stdout",
     "output_type": "stream",
     "text": [
      "2355\n"
     ]
    }
   ],
   "source": [
    "with open(\"miracle_in_the_andes.txt\") as file:\n",
    "    file = file.readlines()\n",
    "\n",
    "print(len(file))"
   ]
  },
  {
   "cell_type": "code",
   "execution_count": 2,
   "id": "1e8e3b8b-2066-45f3-8df4-595e44283ae5",
   "metadata": {},
   "outputs": [
    {
     "name": "stdout",
     "output_type": "stream",
     "text": [
      "463940\n"
     ]
    }
   ],
   "source": [
    "with open(\"miracle_in_the_andes.txt\") as book:\n",
    "    book = book.read()\n",
    "\n",
    "print(len(book))"
   ]
  },
  {
   "cell_type": "markdown",
   "id": "5a973349-ba4b-4916-9c05-0952786ba74e",
   "metadata": {},
   "source": [
    "# How many chapters?"
   ]
  },
  {
   "cell_type": "markdown",
   "id": "276f8117-937b-4bda-a2ac-1f890a7fe686",
   "metadata": {},
   "source": [
    "#### With String Methods"
   ]
  },
  {
   "cell_type": "code",
   "execution_count": 3,
   "id": "e14700eb-e690-4ba1-9806-442599cfb5d6",
   "metadata": {},
   "outputs": [
    {
     "data": {
      "text/plain": [
       "11"
      ]
     },
     "execution_count": 3,
     "metadata": {},
     "output_type": "execute_result"
    }
   ],
   "source": [
    "book.count('Chapter')"
   ]
  },
  {
   "cell_type": "markdown",
   "id": "e35e974a-ebab-4154-ba7b-06d006348463",
   "metadata": {},
   "source": [
    "#### Regex"
   ]
  },
  {
   "cell_type": "code",
   "execution_count": 4,
   "id": "b3075e20-c6c8-46a2-9c00-3561202854db",
   "metadata": {},
   "outputs": [
    {
     "data": {
      "text/plain": [
       "10"
      ]
     },
     "execution_count": 4,
     "metadata": {},
     "output_type": "execute_result"
    }
   ],
   "source": [
    "import re\n",
    "\n",
    "pattern = re.compile(\"Chapter [0-9]+\")\n",
    "findings = re.findall(pattern, book)\n",
    "len(findings)"
   ]
  },
  {
   "cell_type": "code",
   "execution_count": 5,
   "id": "39ae977d-19a7-4d35-a28a-efde6f1f49fa",
   "metadata": {},
   "outputs": [
    {
     "data": {
      "text/plain": [
       "['mendous', 'Mendoza', 'mendation', 'Mendendez']"
      ]
     },
     "execution_count": 5,
     "metadata": {},
     "output_type": "execute_result"
    }
   ],
   "source": [
    "letter_pattern = re.compile(\"mend[a-z]+\", re.IGNORECASE)\n",
    "letter_find = re.findall(letter_pattern, book)\n",
    "unique_findings = list(set(letter_find))\n",
    "unique_findings"
   ]
  },
  {
   "cell_type": "markdown",
   "id": "fb2a6144-94b2-49f5-807b-95801116d9bd",
   "metadata": {},
   "source": [
    "#### Sentences where 'love' has been used"
   ]
  },
  {
   "cell_type": "code",
   "execution_count": 6,
   "id": "d00f8398-fd7f-4bc2-8891-448bd0dc8a0b",
   "metadata": {},
   "outputs": [
    {
     "data": {
      "text/plain": [
       "67"
      ]
     },
     "execution_count": 6,
     "metadata": {},
     "output_type": "execute_result"
    }
   ],
   "source": [
    "# pattern = re.compile(\"[^.]* love [^.]*.\")\n",
    "pattern = re.compile(\"[A-Z]{1}[^.]*[^a-zA-Z]+love[^a-zA-Z][^.]*.\")\n",
    "findings = re.findall(pattern, book)\n",
    "len(findings)"
   ]
  },
  {
   "cell_type": "markdown",
   "id": "af07b36b-7a4f-45a7-acd9-6f8615fbe4be",
   "metadata": {},
   "source": [
    "#### Most common words"
   ]
  },
  {
   "cell_type": "code",
   "execution_count": 7,
   "id": "2ea75aba-b686-407b-97fc-b41598e8cbe1",
   "metadata": {},
   "outputs": [],
   "source": [
    "pattern = re.compile(\"[a-zA-Z]+\")\n",
    "# findings = re.findall(pattern, book)\n",
    "findings = re.findall(pattern, book.lower())"
   ]
  },
  {
   "cell_type": "code",
   "execution_count": 8,
   "id": "c215aa20-1741-409d-b9ee-0ad665d171dc",
   "metadata": {},
   "outputs": [
    {
     "name": "stdout",
     "output_type": "stream",
     "text": [
      "the\n",
      "5346\n"
     ]
    }
   ],
   "source": [
    "d = {}\n",
    "for word in findings:\n",
    "    if word in d.keys():\n",
    "        d[word] = d[word] + 1\n",
    "    else:\n",
    "        d[word] = 1\n",
    "\n",
    "max_value = max(d.values())\n",
    "key_with_max_value = next(key for key, value in d.items() if value == max_value)\n",
    "print(key_with_max_value)\n",
    "print(max_value)\n"
   ]
  },
  {
   "cell_type": "code",
   "execution_count": 9,
   "id": "f15e80cf-1914-44e7-8bcc-19f06dc1303c",
   "metadata": {},
   "outputs": [
    {
     "data": {
      "text/plain": [
       "[(5346, 'the'),\n",
       " (2795, 'and'),\n",
       " (2729, 'i'),\n",
       " (2400, 'to'),\n",
       " (2060, 'of'),\n",
       " (1566, 'a'),\n",
       " (1430, 'was'),\n",
       " (1419, 'in'),\n",
       " (1226, 'we'),\n",
       " (1169, 'my')]"
      ]
     },
     "execution_count": 9,
     "metadata": {},
     "output_type": "execute_result"
    }
   ],
   "source": [
    "d_list = [(value, key) for (key, value) in d.items()]\n",
    "sorted(d_list, reverse=True)[:10]\n",
    "\n",
    "# NLP to be used to ignore the top words i.e. the words that are used in most in all books - articles "
   ]
  },
  {
   "cell_type": "code",
   "execution_count": null,
   "id": "c90d6496-b041-408b-b3c9-c116e0de4ee4",
   "metadata": {},
   "outputs": [],
   "source": []
  },
  {
   "cell_type": "code",
   "execution_count": null,
   "id": "3ebf910c-6347-4fbd-b412-a2a2733aa111",
   "metadata": {},
   "outputs": [],
   "source": []
  }
 ],
 "metadata": {
  "kernelspec": {
   "display_name": "Python 3 (ipykernel)",
   "language": "python",
   "name": "python3"
  },
  "language_info": {
   "codemirror_mode": {
    "name": "ipython",
    "version": 3
   },
   "file_extension": ".py",
   "mimetype": "text/x-python",
   "name": "python",
   "nbconvert_exporter": "python",
   "pygments_lexer": "ipython3",
   "version": "3.11.4"
  }
 },
 "nbformat": 4,
 "nbformat_minor": 5
}
