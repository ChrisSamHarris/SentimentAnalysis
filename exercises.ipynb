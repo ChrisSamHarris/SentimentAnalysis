{
 "cells": [
  {
   "cell_type": "code",
   "execution_count": null,
   "id": "84e7e341-4b95-470e-be8a-d3dd6b0b47f3",
   "metadata": {},
   "outputs": [],
   "source": [
    "# Load the book"
   ]
  },
  {
   "cell_type": "code",
   "execution_count": 7,
   "id": "1674f7c2-d5dd-4525-8c43-5377a191010f",
   "metadata": {},
   "outputs": [],
   "source": [
    "with open('miracle_in_the_andes.txt', 'r') as book:\n",
    "    book = book.read()"
   ]
  },
  {
   "cell_type": "code",
   "execution_count": null,
   "id": "3b82d225-7150-45ae-839a-03b29eb13fb0",
   "metadata": {},
   "outputs": [],
   "source": [
    "# Extract the paragraph where 'love' was used"
   ]
  },
  {
   "cell_type": "code",
   "execution_count": 15,
   "id": "3cfc1be8-5559-48fb-8064-9f785543551a",
   "metadata": {},
   "outputs": [
    {
     "data": {
      "text/plain": [
       "['To me, this is the essence of rugby. No other sport gives you such an intense sense of selflessness and unified purpose. I believe this is why rugby players all over the world feel such a passion for the game and such a feeling of brotherhood. As a young man, of course, I could not put these things into words, but I knew, and my teammates knew, that there was something special about the game, and under the guidance of the Christian Brothers we developed a passionate love for the sport that shaped our friendships and our lives. For eight years we played our hearts out for the Christian Brothers—a brotherhood of young boys with Latin names, playing a game with deep Anglo roots under Uruguay’s sunny skies, and proudly wearing the bright green shamrock on our uniforms. The game became so much a part of our lives, in fact, that when we graduated from Stella Maris at the age of sixteen, many of us could not bear the thought that our playing days were over. Our salvation came in the form of the Old Christians Club, a private rugby team formed in 1965 by previous alumni of the Stella Maris rugby program to give Stella Maris ruggers a chance to continue playing the game after our school years ended.']"
      ]
     },
     "execution_count": 15,
     "metadata": {},
     "output_type": "execute_result"
    }
   ],
   "source": [
    "import re\n",
    "\n",
    "pattern = re.compile(\"[^\\n]+love[^\\n]+\")\n",
    "findings = re.findall(pattern, book)\n",
    "\n",
    "findings[:1]\n"
   ]
  },
  {
   "cell_type": "code",
   "execution_count": 2,
   "id": "7ae58ce2-a556-4b50-94d3-92dedfad57eb",
   "metadata": {},
   "outputs": [],
   "source": [
    "# Extract the Chapter Titles"
   ]
  },
  {
   "cell_type": "code",
   "execution_count": 18,
   "id": "d2455609-9173-453d-95ab-98e9dab0204d",
   "metadata": {},
   "outputs": [
    {
     "data": {
      "text/plain": [
       "['Before',\n",
       " 'Everything Precious',\n",
       " 'A Promise',\n",
       " 'Breathe Once More',\n",
       " 'Abandoned',\n",
       " 'Tomb',\n",
       " 'East',\n",
       " 'The Opposite of Death',\n",
       " 'I See a Man',\n",
       " 'After']"
      ]
     },
     "execution_count": 18,
     "metadata": {},
     "output_type": "execute_result"
    }
   ],
   "source": [
    "pattern = re.compile(\"[a-zA-Z ,]+\\n\\n\")\n",
    "# pattern = re.compile(\"([a-zA-Z ,])+\\n\\n\")\n",
    "findings = re.findall(pattern, book)\n",
    "findings = [item.strip('\\n\\n') for item in findings]\n",
    "findings"
   ]
  },
  {
   "cell_type": "code",
   "execution_count": null,
   "id": "d6a1588b-0dcb-4e40-96d5-c62c6c0b3044",
   "metadata": {},
   "outputs": [],
   "source": [
    "# Function that finds the occurance of any word"
   ]
  },
  {
   "cell_type": "code",
   "execution_count": 62,
   "id": "7f85a6f6-fe20-49b9-855b-0063adb9c7ed",
   "metadata": {},
   "outputs": [],
   "source": [
    "def find_occ(word):\n",
    "    word = word.lower()\n",
    "    pattern = re.compile(\"[a-zA-Z]+\")\n",
    "    findings = re.findall(pattern, book.lower())\n",
    "    num_occurances = 0\n",
    "    for i in findings:\n",
    "        if i == word:\n",
    "            num_occurances += 1\n",
    "    return num_occurances"
   ]
  },
  {
   "cell_type": "code",
   "execution_count": 65,
   "id": "77b7f403-c54e-4373-b3d9-87119fe1fe02",
   "metadata": {},
   "outputs": [],
   "source": [
    "def word_occurred(word):\n",
    "    word = word.lower()\n",
    "    pattern = re.compile(\"[^a-zA-Z-]+\"+word+\"[^a-zA-Z-]\")\n",
    "    findings = re.findall(pattern, book.lower())\n",
    "    if findings:\n",
    "        return f\"There were {len(findings)} occurrences of {word} in the whole text.\"\n",
    "    else:\n",
    "        print(f\"The word, {word} does not exist.\")"
   ]
  },
  {
   "cell_type": "code",
   "execution_count": null,
   "id": "0cafaa61-c12c-4f4a-87f6-1b847e5ccde8",
   "metadata": {},
   "outputs": [],
   "source": [
    "# Call the function to find any word"
   ]
  },
  {
   "cell_type": "code",
   "execution_count": 64,
   "id": "83f40941-05ca-44d1-a0b7-93eced476c7e",
   "metadata": {},
   "outputs": [
    {
     "data": {
      "text/plain": [
       "77"
      ]
     },
     "execution_count": 64,
     "metadata": {},
     "output_type": "execute_result"
    }
   ],
   "source": [
    "find_occ('days')"
   ]
  }
 ],
 "metadata": {
  "kernelspec": {
   "display_name": "Python 3 (ipykernel)",
   "language": "python",
   "name": "python3"
  },
  "language_info": {
   "codemirror_mode": {
    "name": "ipython",
    "version": 3
   },
   "file_extension": ".py",
   "mimetype": "text/x-python",
   "name": "python",
   "nbconvert_exporter": "python",
   "pygments_lexer": "ipython3",
   "version": "3.11.4"
  }
 },
 "nbformat": 4,
 "nbformat_minor": 5
}
